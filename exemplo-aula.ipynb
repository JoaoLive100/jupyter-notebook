{
 "cells": [
  {
   "cell_type": "markdown",
   "id": "6fafc7bf",
   "metadata": {},
   "source": [
    "## Exemplo de Markdown no Jupyter Notebook\n",
    "### Para que serve o Jupyter Notebook?\n",
    "É um ambiente que viabiliza:\n",
    "- Execução de códigos\n",
    "- Criação de documentos com texto formatado\n",
    "- Plotagem de gráficos\n",
    "> É frequentemente usado para notas de aula"
   ]
  },
  {
   "attachments": {
    "pa1fzn4wmnr71.jpg": {
     "image/jpeg": "[encoded data removed]"
    }
   },
   "cell_type": "markdown",
   "id": "42c60546",
   "metadata": {},
   "source": [
    "![pa1fzn4wmnr71.jpg](attachment:pa1fzn4wmnr71.jpg)"
   ]
  },
  {
   "cell_type": "code",
   "execution_count": 76,
   "id": "bf97b2d2",
   "metadata": {},
   "outputs": [
    {
     "name": "stdout",
     "output_type": "stream",
     "text": [
      "Hello World\n"
     ]
    }
   ],
   "source": [
    "#Hello World\n",
    "print(\"Hello World\")"
   ]
  },
  {
   "cell_type": "code",
   "execution_count": 75,
   "id": "87cf579f",
   "metadata": {},
   "outputs": [],
   "source": [
    "#Quando executado uma chamada com interrogação, retorna a definição do randint\n",
    "import random\n",
    "random.randint?"
   ]
  },
  {
   "cell_type": "code",
   "execution_count": 66,
   "id": "171912cd",
   "metadata": {},
   "outputs": [],
   "source": [
    "#Atenção a ordem dos blocos de código\n",
    "n = 3"
   ]
  },
  {
   "cell_type": "code",
   "execution_count": 96,
   "id": "2f30566c",
   "metadata": {},
   "outputs": [],
   "source": [
    "n = 0\n",
    "n = n * 2"
   ]
  },
  {
   "cell_type": "code",
   "execution_count": 103,
   "id": "5d7d500b",
   "metadata": {},
   "outputs": [],
   "source": [
    "n = 0\n",
    "n = n + 2"
   ]
  },
  {
   "cell_type": "code",
   "execution_count": 104,
   "id": "8f70d2d8",
   "metadata": {},
   "outputs": [
    {
     "name": "stdout",
     "output_type": "stream",
     "text": [
      "2\n"
     ]
    }
   ],
   "source": [
    "#se o primeiro bloco executado depois = 0, se o segundo, n = 2\n",
    "print(n)"
   ]
  },
  {
   "cell_type": "code",
   "execution_count": 74,
   "id": "d4f99c2f",
   "metadata": {},
   "outputs": [
    {
     "name": "stdout",
     "output_type": "stream",
     "text": [
      "0\n",
      "1\n",
      "2\n",
      "3\n",
      "4\n",
      "5\n",
      "6\n",
      "7\n",
      "8\n",
      "9\n"
     ]
    },
    {
     "ename": "KeyboardInterrupt",
     "evalue": "",
     "output_type": "error",
     "traceback": [
      "\u001b[1;31m---------------------------------------------------------------------------\u001b[0m",
      "\u001b[1;31mKeyboardInterrupt\u001b[0m                         Traceback (most recent call last)",
      "Cell \u001b[1;32mIn[74], line 4\u001b[0m\n\u001b[0;32m      2\u001b[0m \u001b[38;5;28;01mfor\u001b[39;00m i \u001b[38;5;129;01min\u001b[39;00m \u001b[38;5;28mrange\u001b[39m(\u001b[38;5;241m100\u001b[39m):\n\u001b[0;32m      3\u001b[0m     \u001b[38;5;28mprint\u001b[39m(i)\n\u001b[1;32m----> 4\u001b[0m     time\u001b[38;5;241m.\u001b[39msleep(\u001b[38;5;241m0.5\u001b[39m)\n",
      "\u001b[1;31mKeyboardInterrupt\u001b[0m: "
     ]
    }
   ],
   "source": [
    "#contador de meio em meio segundo, erro após interromper no \"interrupt the kernel\"\n",
    "import time\n",
    "for i in range(100):\n",
    "    print(i)\n",
    "    time.sleep(0.5)"
   ]
  },
  {
   "cell_type": "code",
   "execution_count": null,
   "id": "2e1c9c38",
   "metadata": {},
   "outputs": [],
   "source": []
  }
 ],
 "metadata": {
  "kernelspec": {
   "display_name": "Python 3 (ipykernel)",
   "language": "python",
   "name": "python3"
  },
  "language_info": {
   "codemirror_mode": {
    "name": "ipython",
    "version": 3
   },
   "file_extension": ".py",
   "mimetype": "text/x-python",
   "name": "python",
   "nbconvert_exporter": "python",
   "pygments_lexer": "ipython3",
   "version": "3.11.5"
  }
 },
 "nbformat": 4,
 "nbformat_minor": 5
}
